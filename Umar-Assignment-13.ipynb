{
 "cells": [
  {
   "cell_type": "markdown",
   "id": "7f6512b4",
   "metadata": {},
   "source": [
    "1. What advantages do Excel spreadsheets have over CSV spreadsheets?\n",
    "\n",
    "Ans:\n",
    "    \n",
    "    We can perform various operations on data in excel but no in csv.\n",
    "    Excel can store more complex data.\n",
    "    No distinction between data type in csv"
   ]
  },
  {
   "cell_type": "markdown",
   "id": "9f7bed32",
   "metadata": {},
   "source": [
    "2.What do you pass to csv.reader() and csv.writer() to create reader and writer objects?\n",
    "\n",
    "Ans:\n",
    "    \n",
    "    "
   ]
  },
  {
   "cell_type": "code",
   "execution_count": 1,
   "id": "81604d6d",
   "metadata": {},
   "outputs": [],
   "source": [
    "import csv"
   ]
  },
  {
   "cell_type": "raw",
   "id": "2e6e3c61",
   "metadata": {},
   "source": [
    " In csv.reader() we pass file and dialect.\n",
    " In csv.writer() we pass fileobj and dialect."
   ]
  },
  {
   "cell_type": "markdown",
   "id": "44720c27",
   "metadata": {},
   "source": [
    "3. What modes do File objects for reader and writer objects need to be opened in?\n",
    "\n",
    "Ans:\n",
    "    \n",
    "    for reader object we open file in read mode 'r'\n",
    "    and for writer object we open file in write mode 'w'."
   ]
  },
  {
   "cell_type": "markdown",
   "id": "32abc7f3",
   "metadata": {},
   "source": [
    "4. What method takes a list argument and writes it to a CSV file?\n",
    "\n",
    "Ans:\n",
    "    \n",
    "    use writerow() method for list argument in csv file."
   ]
  },
  {
   "cell_type": "markdown",
   "id": "6661cf38",
   "metadata": {},
   "source": [
    "5. What do the keyword arguments delimiter and line terminator do?\n",
    "\n",
    "Ans:\n",
    "    \n",
    "    firstname, lastname, age\n",
    "    Umar, Shaikh, 25\n",
    "    Gulam, Sabri, 25\n",
    "\n",
    "    here ',' is delimiter we can use any character as per our needs.\n",
    "    line terminator comes at end of line by default it is newline and can be changed according to requirement."
   ]
  },
  {
   "cell_type": "markdown",
   "id": "942e2838",
   "metadata": {},
   "source": [
    "6. What function takes a string of JSON data and returns a Python data structure?\n",
    "\n",
    "Ans:\n",
    "    \n",
    "    dumps() function convert json data into python data structure."
   ]
  },
  {
   "cell_type": "markdown",
   "id": "842aa4bc",
   "metadata": {},
   "source": [
    "7. What function takes a Python data structure and returns a string of JSON data?\n",
    "\n",
    "Ans:\n",
    "    \n",
    "    loads() function converts python data structure and returns a string of json data."
   ]
  },
  {
   "cell_type": "code",
   "execution_count": null,
   "id": "ba98d7ac",
   "metadata": {},
   "outputs": [],
   "source": []
  }
 ],
 "metadata": {
  "kernelspec": {
   "display_name": "Python 3 (ipykernel)",
   "language": "python",
   "name": "python3"
  },
  "language_info": {
   "codemirror_mode": {
    "name": "ipython",
    "version": 3
   },
   "file_extension": ".py",
   "mimetype": "text/x-python",
   "name": "python",
   "nbconvert_exporter": "python",
   "pygments_lexer": "ipython3",
   "version": "3.9.7"
  }
 },
 "nbformat": 4,
 "nbformat_minor": 5
}
