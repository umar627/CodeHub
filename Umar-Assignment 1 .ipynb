{
 "cells": [
  {
   "cell_type": "markdown",
   "id": "e844883a",
   "metadata": {},
   "source": [
    "1. In the below elements which of them are values or an expression? eg:- values can be integer or string and expressions will be mathematical operators.\n",
    "* \n",
    "'hello'\n",
    "-87.8\n",
    "- \n",
    "/ \n",
    "+\t\n",
    "6 \n",
    "\n",
    "\n",
    "Ans: *,-,+,/ this are expressions\n",
    "     'hello', this is a string\n",
    "      -87.8,6 this is  a integer\n"
   ]
  },
  {
   "cell_type": "markdown",
   "id": "97156f6b",
   "metadata": {},
   "source": [
    "2. What is the difference between string and variable?\n",
    "\n",
    "\n",
    "Ans: String is a sequence of character and variable is single character which stores memory location for storing values."
   ]
  },
  {
   "cell_type": "markdown",
   "id": "c6b9c441",
   "metadata": {},
   "source": [
    "3. Describe three different data types.\n",
    "\n",
    "Ans:   Integer\n",
    "\n",
    "       Float\n",
    "       \n",
    "       String\n",
    "       \n",
    "       Integer:  This value is repesented by \"int\" it contain positive or negative whole number. In python their is no limit to                  how long an integer can be.\n",
    "       \n",
    "       Float:    This value is represented by \"folat\" it is specified by a decimal point.\n",
    "       \n",
    "       String:   This value is represented by \"str\" A string is a sequence of character put in single or double quote"
   ]
  },
  {
   "cell_type": "markdown",
   "id": "67a99419",
   "metadata": {},
   "source": [
    "4. What is an expression made up of? What do all expressions do?\n",
    "\n",
    "Ans:  An expression is made up of operators and operands.\n",
    "      \n",
    "      All expression perform some operation depends on operators."
   ]
  },
  {
   "cell_type": "markdown",
   "id": "7455358c",
   "metadata": {},
   "source": [
    "5. This assignment statements, like spam = 10. What is the difference between an expression and a statement?\n",
    "\n",
    "Ans:  Statement respresent an action or command \n",
    "      \n",
    "      eg spam=10\n",
    "      \n",
    "      Expression is a combination of variables , operations and value that gives a result.\n",
    "      \n",
    "      "
   ]
  },
  {
   "cell_type": "markdown",
   "id": "120fff4e",
   "metadata": {},
   "source": [
    "6. After running the following code, what does the variable bacon contain?\n",
    "bacon = 22\n",
    "bacon + 1\n",
    "\n",
    "Ans:   After running the following code\n",
    "\n",
    "       The variable bacon contain    23"
   ]
  },
  {
   "cell_type": "code",
   "execution_count": 2,
   "id": "24566084",
   "metadata": {},
   "outputs": [
    {
     "data": {
      "text/plain": [
       "23"
      ]
     },
     "execution_count": 2,
     "metadata": {},
     "output_type": "execute_result"
    }
   ],
   "source": [
    "bacon=22\n",
    "bacon+1\n"
   ]
  },
  {
   "cell_type": "markdown",
   "id": "1a42a1f7",
   "metadata": {},
   "source": [
    "7. What should the values of the following two terms be?\n",
    "'spam' + 'spamspam'\n",
    "'spam' * 3\n",
    "\n",
    "\n",
    "Ans:  'spamspamspam' \n"
   ]
  },
  {
   "cell_type": "code",
   "execution_count": 3,
   "id": "e182a416",
   "metadata": {},
   "outputs": [
    {
     "data": {
      "text/plain": [
       "'spamspamspam'"
      ]
     },
     "execution_count": 3,
     "metadata": {},
     "output_type": "execute_result"
    }
   ],
   "source": [
    "'spam'+'spamspam'\n",
    "'spam'*3"
   ]
  },
  {
   "cell_type": "markdown",
   "id": "71a01693",
   "metadata": {},
   "source": [
    "8. Why is eggs a valid variable name while 100 is invalid?\n",
    "\n",
    "Ans:  because variable cannot start with number thats why 100 is invalid and eggs is valid varible."
   ]
  },
  {
   "cell_type": "markdown",
   "id": "908a80a6",
   "metadata": {},
   "source": [
    "9. What three functions can be used to get the integer, floating-point number, or string version of a value?\n",
    "\n",
    "Ans : \n",
    "       \n",
    "       int is used to get integer value\n",
    "       \n",
    "       float is used to get floatin-point number\n",
    "       \n",
    "       str is used to get string value "
   ]
  },
  {
   "cell_type": "markdown",
   "id": "cab20d08",
   "metadata": {},
   "source": [
    "10. Why does this expression cause an error? How can you fix it?\n",
    "'I have eaten ' + 99 + ' burritos.'\n",
    "\n",
    "Ans :  \n",
    "       This expression cause an error because 99 is integer so string and integer cannot concat .\n",
    "         \n",
    "         \n",
    "       We need to convert integer value in to string then it will fix an error.\n",
    "      \n"
   ]
  },
  {
   "cell_type": "code",
   "execution_count": 4,
   "id": "6899cb02",
   "metadata": {},
   "outputs": [
    {
     "ename": "TypeError",
     "evalue": "can only concatenate str (not \"int\") to str",
     "output_type": "error",
     "traceback": [
      "\u001b[1;31m---------------------------------------------------------------------------\u001b[0m",
      "\u001b[1;31mTypeError\u001b[0m                                 Traceback (most recent call last)",
      "\u001b[1;32m~\\AppData\\Local\\Temp/ipykernel_7272/408945910.py\u001b[0m in \u001b[0;36m<module>\u001b[1;34m\u001b[0m\n\u001b[1;32m----> 1\u001b[1;33m \u001b[1;34m'I have eaten '\u001b[0m\u001b[1;33m+\u001b[0m\u001b[1;36m99\u001b[0m\u001b[1;33m+\u001b[0m\u001b[1;34m'burritos'\u001b[0m\u001b[1;33m\u001b[0m\u001b[1;33m\u001b[0m\u001b[0m\n\u001b[0m",
      "\u001b[1;31mTypeError\u001b[0m: can only concatenate str (not \"int\") to str"
     ]
    }
   ],
   "source": [
    "'I have eaten '+99+'burritos'"
   ]
  },
  {
   "cell_type": "code",
   "execution_count": 5,
   "id": "5099e89c",
   "metadata": {},
   "outputs": [
    {
     "data": {
      "text/plain": [
       "'I have eaten99burritos'"
      ]
     },
     "execution_count": 5,
     "metadata": {},
     "output_type": "execute_result"
    }
   ],
   "source": [
    "'I have eaten'+str(99)+'burritos'"
   ]
  },
  {
   "cell_type": "code",
   "execution_count": null,
   "id": "8b7736a4",
   "metadata": {},
   "outputs": [],
   "source": []
  }
 ],
 "metadata": {
  "kernelspec": {
   "display_name": "Python 3 (ipykernel)",
   "language": "python",
   "name": "python3"
  },
  "language_info": {
   "codemirror_mode": {
    "name": "ipython",
    "version": 3
   },
   "file_extension": ".py",
   "mimetype": "text/x-python",
   "name": "python",
   "nbconvert_exporter": "python",
   "pygments_lexer": "ipython3",
   "version": "3.9.7"
  }
 },
 "nbformat": 4,
 "nbformat_minor": 5
}
