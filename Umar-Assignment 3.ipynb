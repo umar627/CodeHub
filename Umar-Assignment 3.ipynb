{
 "cells": [
  {
   "cell_type": "markdown",
   "id": "8c592320",
   "metadata": {},
   "source": [
    "1. Why are functions advantageous to have in your programs?\n",
    "\n",
    "Ans:\n",
    "   \n",
    "    Becasue with the help of function we can reduce the duplication of code in the programme,\n",
    "    Function simply contain block of code that why we use function in the programme."
   ]
  },
  {
   "cell_type": "markdown",
   "id": "0493fbb0",
   "metadata": {},
   "source": [
    "2. When does the code in a function run: when it's specified or when it's called?\n",
    "\n",
    "Ans:\n",
    "\n",
    "     When the function is call then it execute the code inside the function.\n",
    "     Codes are executed line by line until and unless function is not specified\n",
    "     it will not run the code inside the function and not called."
   ]
  },
  {
   "cell_type": "markdown",
   "id": "8160eb49",
   "metadata": {},
   "source": [
    "3. What statement creates a function?\n",
    "\n",
    "Ans:\n",
    "\n",
    "     By using \"def\" keyword we can create a function and write a intented block of code inside that function."
   ]
  },
  {
   "cell_type": "markdown",
   "id": "df4b87af",
   "metadata": {},
   "source": [
    "4. What is the difference between a function and a function call?\n",
    "\n",
    "Ans:\n",
    "\n",
    "    A function is use to write block of code while pass any parameter in it it's consider as function call"
   ]
  },
  {
   "cell_type": "markdown",
   "id": "765ce25b",
   "metadata": {},
   "source": [
    "5. How many global scopes are there in a Python program? How many local scopes?\n",
    "\n",
    "Ans:\n",
    "\n",
    "    There are four scopes in python \n",
    "    Local\n",
    "    Global\n",
    "    Enclosing \n",
    "    Built-in\n",
    "    \n",
    "    one global scope and three local scope"
   ]
  },
  {
   "cell_type": "markdown",
   "id": "dfec90d2",
   "metadata": {},
   "source": [
    "6. What happens to variables in a local scope when the function call returns?\n",
    "\n",
    "Ans:\n",
    "\n",
    "    Variables get undefined when the function call returns, local scope variables used many times after the function call \n",
    "    as per requirement."
   ]
  },
  {
   "cell_type": "markdown",
   "id": "41fe854e",
   "metadata": {},
   "source": [
    "7. What is the concept of a return value? Is it possible to have a return value in an expression?\n",
    "\n",
    "Ans:\n",
    "\n",
    "    Return value is used to end the execution of function call.\n",
    "    Yes we can use return value in an expression."
   ]
  },
  {
   "cell_type": "markdown",
   "id": "d92e6646",
   "metadata": {},
   "source": [
    "8. If a function does not have a return statement, what is the return value of a call to that function?\n",
    "\n",
    "Ans:\n",
    "\n",
    "    If a function does not have a return statement then the retrun value of a call to that function is default."
   ]
  },
  {
   "cell_type": "markdown",
   "id": "3a811f5d",
   "metadata": {},
   "source": [
    "9. How do you make a function variable refer to the global variable?\n",
    "\n",
    "Ans:\n",
    "\n",
    "    by using global keyword to make a function variable refer to the global variable."
   ]
  },
  {
   "cell_type": "markdown",
   "id": "ace3a450",
   "metadata": {},
   "source": [
    "10. What is the data type of None?\n",
    "\n",
    "Ans:\n",
    "\n",
    "     None is the date type of None itself, by using \n",
    "     None keyword we can define null or empty string."
   ]
  },
  {
   "cell_type": "markdown",
   "id": "811a6819",
   "metadata": {},
   "source": [
    "11. What does the sentence import areallyourpetsnamederic do?\n",
    "\n",
    "Ans:\n",
    "\n",
    "    the import module import the sentence areallyourpetsnamederic"
   ]
  },
  {
   "cell_type": "markdown",
   "id": "7b353f35",
   "metadata": {},
   "source": [
    "12. If you had a bacon() feature in a spam module, what would you call it after importing spam?\n",
    "\n",
    "Ans:\n",
    "\n",
    "    After importing spam module we can call with spam.bacon()."
   ]
  },
  {
   "cell_type": "markdown",
   "id": "199e1f2c",
   "metadata": {},
   "source": [
    "13. What can you do to save a programme from crashing if it encounters an error?\n",
    "\n",
    "Ans:\n",
    "\n",
    "    we can place our code in try clause to prevent form crashing our programme."
   ]
  },
  {
   "cell_type": "markdown",
   "id": "9782d9f3",
   "metadata": {},
   "source": [
    "14. What is the purpose of the try clause? What is the purpose of the except clause?\n",
    "\n",
    "Ans:\n",
    "\n",
    "   The code that cause an error goes into try clause, The code that executes if an error happen goes into except clause"
   ]
  },
  {
   "cell_type": "code",
   "execution_count": null,
   "id": "b07a8399",
   "metadata": {},
   "outputs": [],
   "source": []
  }
 ],
 "metadata": {
  "kernelspec": {
   "display_name": "Python 3 (ipykernel)",
   "language": "python",
   "name": "python3"
  },
  "language_info": {
   "codemirror_mode": {
    "name": "ipython",
    "version": 3
   },
   "file_extension": ".py",
   "mimetype": "text/x-python",
   "name": "python",
   "nbconvert_exporter": "python",
   "pygments_lexer": "ipython3",
   "version": "3.9.7"
  }
 },
 "nbformat": 4,
 "nbformat_minor": 5
}
