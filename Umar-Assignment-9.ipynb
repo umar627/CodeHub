{
 "cells": [
  {
   "cell_type": "markdown",
   "id": "1a4f1811",
   "metadata": {},
   "source": [
    "1. To what does a relative path refer?\n",
    "\n",
    "Ans:\n",
    "    \n",
    "    relative path shows current working directory path\n",
    "    for me it is: C:\\Users\\hp\\Downloads\\UmarAssignment-9.ipynb"
   ]
  },
  {
   "cell_type": "markdown",
   "id": "66132d4d",
   "metadata": {},
   "source": [
    "2. What does an absolute path start with your operating system?\n",
    "\n",
    "Ans:\n",
    "    \n",
    "     In Linux based systems the absolute path starts with /. \n",
    "     Where as in Windows based systems absolute path starts with C:"
   ]
  },
  {
   "cell_type": "markdown",
   "id": "7f7fb37a",
   "metadata": {},
   "source": [
    "3. What do the functions os.getcwd() and os.chdir() do?\n",
    "\n",
    "Ans:\n",
    "    \n",
    "    os.getcwd() method tells us the location of current working directory (CWD). \n",
    "    Whereas os.chdir() method in Python used to  change the current working directory to specified path.\n",
    "    These functions are similar to linux commands pwd and cd"
   ]
  },
  {
   "cell_type": "code",
   "execution_count": 13,
   "id": "5f7575f1",
   "metadata": {},
   "outputs": [
    {
     "name": "stdout",
     "output_type": "stream",
     "text": [
      "C:\\Users\\hp\\Documents\n",
      "C:\\Users\\hp\\Downloads\n"
     ]
    }
   ],
   "source": [
    "import os\n",
    "print(os.getcwd()) \n",
    "path = r'C:\\Users\\hp\\Downloads'\n",
    "os.chdir(path)\n",
    "print(os.getcwd())"
   ]
  },
  {
   "cell_type": "markdown",
   "id": "664a8423",
   "metadata": {},
   "source": [
    "4. What are the . and .. folders?\n",
    "\n",
    "Ans:\n",
    "    \n",
    "    these are not real folder but are special names for path\n",
    "    (.) = this directory\n",
    "    (..)= parent directory"
   ]
  },
  {
   "cell_type": "markdown",
   "id": "247e63bf",
   "metadata": {},
   "source": [
    "5. In C:\\bacon\\eggs\\spam.txt, which part is the dir name, and which part is the base name?\n",
    "    \n",
    "Ans:\n",
    "    \n",
    "    . Represents the Current Directory Whereas .. Represents the Parent Directory of the Current Directory\n",
    "     For Example: if the below path is my absolute path:\n",
    "     C:\\\\Users\\\\hp\\\\Documents\\\\Umar-Assignment-9\n",
    "     Then . represents the path C:\\\\Users\\\\hp\\\\Documents\n",
    "     Where as .. represents the path C:\\\\Users\\\\hp\\\\Documents\\\\Umar-Assugnment-9\n",
    "    "
   ]
  },
  {
   "cell_type": "markdown",
   "id": "b0e6a08d",
   "metadata": {},
   "source": [
    "6. What are the three “mode” arguments that can be passed to the open() function?\n",
    "\n",
    "Ans:\n",
    "    \n",
    "     Three mode arguments are:\n",
    "    1. 'r' --> open for reading in text mode.\n",
    "    2. 'w' --> open for writing.\n",
    "    3. 'a' --> open for appending."
   ]
  },
  {
   "cell_type": "markdown",
   "id": "1bf66c99",
   "metadata": {},
   "source": [
    "7. What happens if an existing file is opened in write mode?\n",
    "\n",
    "Ans:\n",
    "    \n",
    "     Using this mode will overwrite any existing content in a file. If the given file does not exist, a new one will be created."
   ]
  },
  {
   "cell_type": "markdown",
   "id": "62612a64",
   "metadata": {},
   "source": [
    "8. How do you tell the difference between read() and readlines()?\n",
    "\n",
    "Ans:\n",
    "    \n",
    "     read()      --> it iterates over each character.\n",
    "     readlines() --> read only single line of the file."
   ]
  },
  {
   "cell_type": "markdown",
   "id": "0b0645d7",
   "metadata": {},
   "source": [
    "9. What data structure does a shelf value resemble?\n",
    "\n",
    "Ans:\n",
    "    \n",
    "    It contains key and values it represents dictionary."
   ]
  },
  {
   "cell_type": "code",
   "execution_count": null,
   "id": "4b00bce3",
   "metadata": {},
   "outputs": [],
   "source": []
  }
 ],
 "metadata": {
  "kernelspec": {
   "display_name": "Python 3 (ipykernel)",
   "language": "python",
   "name": "python3"
  },
  "language_info": {
   "codemirror_mode": {
    "name": "ipython",
    "version": 3
   },
   "file_extension": ".py",
   "mimetype": "text/x-python",
   "name": "python",
   "nbconvert_exporter": "python",
   "pygments_lexer": "ipython3",
   "version": "3.9.7"
  }
 },
 "nbformat": 4,
 "nbformat_minor": 5
}
