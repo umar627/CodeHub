{
 "cells": [
  {
   "cell_type": "markdown",
   "id": "b5656451",
   "metadata": {},
   "source": [
    "1. What is the name of the feature responsible for generating Regex objects?\n",
    "\n",
    "Ans:\n",
    "    \n",
    "    re module is used for generation of Regex objects {re.compitle()}"
   ]
  },
  {
   "cell_type": "markdown",
   "id": "7b3ded0f",
   "metadata": {},
   "source": [
    "2. Why do raw strings often appear in Regex objects?\n",
    "\n",
    "Ans:\n",
    "    \n",
    "    to prevent backslash from excaping."
   ]
  },
  {
   "cell_type": "markdown",
   "id": "e6e5280e",
   "metadata": {},
   "source": [
    "3. What is the return value of the search() method?\n",
    "\n",
    "Ans:\n",
    "    \n",
    "    if it finds the pattern then it returns match object else none."
   ]
  },
  {
   "cell_type": "markdown",
   "id": "34cacd15",
   "metadata": {},
   "source": [
    "4. From a Match item, how do you get the actual strings that match the pattern?\n",
    "\n",
    "Ans:\n",
    "    \n",
    "    group() method returns matched pattern"
   ]
  },
  {
   "cell_type": "markdown",
   "id": "25a693f3",
   "metadata": {},
   "source": [
    "5. In the regex which created from the r'(\\d\\d\\d)-(\\d\\d\\d-\\d\\d\\d\\d)', what does group zero cover? Group 2? Group 1?\n",
    "\n",
    "Ans:\n",
    "    \n",
    "    group 0 covers whole part\n",
    "    group 1 covers first part\n",
    "    group 2 covers second part"
   ]
  },
  {
   "cell_type": "markdown",
   "id": "30491377",
   "metadata": {},
   "source": [
    "6. In standard expression syntax, parentheses and intervals have distinct meanings. How can you tell a regex that you want it to fit real parentheses and periods?\n",
    "\n",
    "Ans:\n",
    "    \n",
    "      \\., \\(, and \\)"
   ]
  },
  {
   "cell_type": "markdown",
   "id": "d01cbd91",
   "metadata": {},
   "source": [
    "7. The findall() method returns a string list or a list of string tuples. What causes it to return one of the two options?\n",
    "\n",
    "Ans:\n",
    "    \n",
    "    when we enclose our pattern inside \"()\" it will return tuple\n",
    "    when we enclose our pattern without using \"()\" it will return tuple"
   ]
  },
  {
   "cell_type": "markdown",
   "id": "3fd8748b",
   "metadata": {},
   "source": [
    "8. In standard expressions, what does the | character mean?\n",
    "\n",
    "Ans:\n",
    "    \n",
    "    in standard expression \" | \" means  Alternation / OR operand."
   ]
  },
  {
   "cell_type": "markdown",
   "id": "eb3bd09d",
   "metadata": {},
   "source": [
    "9. In regular expressions, what does the character stand for?\n",
    "\n",
    "Ans:\n",
    "    \n",
    "    it stands for match zero or one of the preceding group"
   ]
  },
  {
   "cell_type": "markdown",
   "id": "5deba2b6",
   "metadata": {},
   "source": [
    "10.In regular expressions, what is the difference between the + and * characters?\n",
    "\n",
    "Ans:\n",
    "    \n",
    "    + means one or more\n",
    "    * means zero or more"
   ]
  },
  {
   "cell_type": "markdown",
   "id": "6c97d0c0",
   "metadata": {},
   "source": [
    "11. What is the difference between {4} and {4,5} in regular expression?\n",
    "\n",
    "Ans:\n",
    "    \n",
    "    {4} Matches the expression to its left 4 times, and not less.\n",
    "    {4,5) Matches the expression to its left 4 to 5 times, and not less."
   ]
  },
  {
   "cell_type": "markdown",
   "id": "1a7a8726",
   "metadata": {},
   "source": [
    "12. What do you mean by the \\d, \\w, and \\s shorthand character classes signify in regular expressions?\n",
    "\n",
    "Ans:\n",
    "    \n",
    "    \\d Matches digits, which means 0-9.\n",
    "    \\w Matches alphanumeric characters, which means a-z, A-Z, and 0-9. It also matches the underscore, _.\n",
    "    \\s Matches whitespace characters, which include the \\t, \\n, \\r, and space characters."
   ]
  },
  {
   "cell_type": "markdown",
   "id": "1dd38ddb",
   "metadata": {},
   "source": [
    "13. What do means by \\D, \\W, and \\S shorthand character classes signify in regular expressions?\n",
    "\n",
    "Ans:\n",
    "    \n",
    "    \\D Matches any non-digits. \n",
    "    \\W Matches any non-word character.\n",
    "    \\S Matches non-whitespace characters."
   ]
  },
  {
   "cell_type": "markdown",
   "id": "97539231",
   "metadata": {},
   "source": [
    "14. What is the difference between .*? and .*?\n",
    "\n",
    "Ans:\n",
    "    \n",
    "    .*? adds ?, a quantifier that matches the preceding element (the \".*\" here) 0 or 1 times.\n",
    "    .* adds *, a quantifier that matches the preceding element (the \".\" here) 0 or more times."
   ]
  },
  {
   "cell_type": "markdown",
   "id": "f38cbc0d",
   "metadata": {},
   "source": [
    "15. What is the syntax for matching both numbers and lowercase letters with a character class?"
   ]
  },
  {
   "cell_type": "code",
   "execution_count": 1,
   "id": "9d348db4",
   "metadata": {},
   "outputs": [],
   "source": [
    "import re"
   ]
  },
  {
   "cell_type": "code",
   "execution_count": 2,
   "id": "1cca2ad9",
   "metadata": {},
   "outputs": [],
   "source": [
    "def match(text):\n",
    "    patterns = '^[a-z0-9]*$'\n",
    "    if re.search(patterns,text):\n",
    "        return \"matched\"\n",
    "    else:\n",
    "        return\"not matched\""
   ]
  },
  {
   "cell_type": "code",
   "execution_count": 4,
   "id": "9bf45481",
   "metadata": {},
   "outputs": [
    {
     "name": "stdout",
     "output_type": "stream",
     "text": [
      "matched\n"
     ]
    }
   ],
   "source": [
    "print(match(\"umar627\"))"
   ]
  },
  {
   "cell_type": "markdown",
   "id": "d408cc27",
   "metadata": {},
   "source": [
    "16. What is the procedure for making a normal expression in regax case insensitive?\n",
    "\n",
    "Ans:\n",
    "    \n",
    "    use re.IGNORECASE to search, match, or sub"
   ]
  },
  {
   "cell_type": "markdown",
   "id": "df4ec29e",
   "metadata": {},
   "source": [
    "17. What does the . character normally match? What does it match if re.DOTALL is passed as 2nd argument in re.compile()?\n",
    "\n",
    "Ans:\n",
    "    \n",
    "    dot character matches everything in input except newline character\n",
    "    By passing re. DOTALL as the second argument to re. compile() , you can make the dot character match all characters,           including the newline character."
   ]
  },
  {
   "cell_type": "markdown",
   "id": "9b4cc906",
   "metadata": {},
   "source": [
    "18. If numReg = re.compile(r'\\d+'), what will numRegex.sub('X', '11 drummers, 10 pipers, five rings, 4 hen') return?\n",
    "\n",
    "Ans:\n",
    "    \n",
    "    'X drummers, X pipers, five rings, X hens'"
   ]
  },
  {
   "cell_type": "markdown",
   "id": "478d09b0",
   "metadata": {},
   "source": [
    "19. What does passing re.VERBOSE as the 2nd argument to re.compile() allow to do?\n",
    "\n",
    "Ans:\n",
    "    \n",
    "    it will allow to add whitespace and comments to string passed to re.compile()."
   ]
  },
  {
   "cell_type": "markdown",
   "id": "9938e920",
   "metadata": {},
   "source": [
    "20. How would you write a regex that match a number with comma for every three digits? It must match the given following:\n",
    "'42'\n",
    "'1,234'\n",
    "'6,368,745'\n",
    "but not the following:\n",
    "'12,34,567' (which has only two digits between the commas)\n",
    "'1234' (which lacks commas)\n"
   ]
  },
  {
   "cell_type": "code",
   "execution_count": 5,
   "id": "17b24230",
   "metadata": {},
   "outputs": [
    {
     "data": {
      "text/plain": [
       "re.compile(r'^\\d{1,3}(,\\d{3})*$', re.UNICODE)"
      ]
     },
     "execution_count": 5,
     "metadata": {},
     "output_type": "execute_result"
    }
   ],
   "source": [
    "re.compile(r'^\\d{1,3}(,\\d{3})*$')"
   ]
  },
  {
   "cell_type": "markdown",
   "id": "9a5b0ee3",
   "metadata": {},
   "source": [
    "21. How would you write a regex that matches the full name of someone whose last name is Watanabe? You can assume that the first name that comes before it will always be one word that begins with a capital letter. The regex must match the following:\n",
    "'Haruto Watanabe'\n",
    "'Alice Watanabe'\n",
    "'RoboCop Watanabe'\n",
    "but not the following:\n",
    "'haruto Watanabe' (where the first name is not capitalized)\n",
    "'Mr. Watanabe' (where the preceding word has a nonletter character)\n",
    "'Watanabe' (which has no first name)\n",
    "'Haruto watanabe' (where Watanabe is not capitalized)\n"
   ]
  },
  {
   "cell_type": "code",
   "execution_count": 6,
   "id": "58dcffcf",
   "metadata": {},
   "outputs": [
    {
     "data": {
      "text/plain": [
       "re.compile(r'[A-Z][a-z]*\\sNakamoto', re.UNICODE)"
      ]
     },
     "execution_count": 6,
     "metadata": {},
     "output_type": "execute_result"
    }
   ],
   "source": [
    "re.compile(r'[A-Z][a-z]*\\sNakamoto')"
   ]
  },
  {
   "cell_type": "markdown",
   "id": "3c360aca",
   "metadata": {},
   "source": [
    "22. How would you write a regex that matches a sentence where the first word is either Alice, Bob, or Carol; the second word is either eats, pets, or throws; the third word is apples, cats, or baseballs; and the sentence ends with a period? This regex should be case-insensitive. It must match the following:\n",
    "'Alice eats apples.'\n",
    "'Bob pets cats.'\n",
    "'Carol throws baseballs.'\n",
    "'Alice throws Apples.'\n",
    "'BOB EATS CATS.'\n",
    "but not the following:\n",
    "'RoboCop eats apples.'\n",
    "'ALICE THROWS FOOTBALLS.'\n",
    "'Carol eats 7 cats.'\n"
   ]
  },
  {
   "cell_type": "code",
   "execution_count": 7,
   "id": "3afc34bd",
   "metadata": {},
   "outputs": [
    {
     "data": {
      "text/plain": [
       "re.compile(r'(Alice|Bob|Carol)\\s(eats|pets|throws)\\s(apples|cats|baseballs)\\.',\n",
       "re.IGNORECASE|re.UNICODE)"
      ]
     },
     "execution_count": 7,
     "metadata": {},
     "output_type": "execute_result"
    }
   ],
   "source": [
    "re.compile(r'(Alice|Bob|Carol)\\s(eats|pets|throws)\\s(apples|cats|baseballs)\\.', re.IGNORECASE)"
   ]
  },
  {
   "cell_type": "code",
   "execution_count": null,
   "id": "c9dfccd7",
   "metadata": {},
   "outputs": [],
   "source": []
  }
 ],
 "metadata": {
  "kernelspec": {
   "display_name": "Python 3 (ipykernel)",
   "language": "python",
   "name": "python3"
  },
  "language_info": {
   "codemirror_mode": {
    "name": "ipython",
    "version": 3
   },
   "file_extension": ".py",
   "mimetype": "text/x-python",
   "name": "python",
   "nbconvert_exporter": "python",
   "pygments_lexer": "ipython3",
   "version": "3.9.7"
  }
 },
 "nbformat": 4,
 "nbformat_minor": 5
}
