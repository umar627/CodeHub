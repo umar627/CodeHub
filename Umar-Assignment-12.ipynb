{
 "cells": [
  {
   "cell_type": "markdown",
   "id": "41510821",
   "metadata": {},
   "source": [
    "1. In what modes should the PdfFileReader() and PdfFileWriter() File objects will be opened?\n",
    "\n",
    "Ans:\n",
    "    \n",
    "    "
   ]
  },
  {
   "cell_type": "raw",
   "id": "04192b8d",
   "metadata": {},
   "source": [
    "import PyPDF2"
   ]
  },
  {
   "cell_type": "markdown",
   "id": "50a45625",
   "metadata": {},
   "source": [
    " PdfFileReader() -- it is used in 'rb' mode i.e. read binary\n",
    " \n",
    " PdfFileWriter() -- it is used in 'wb' mode i.e. write binary"
   ]
  },
  {
   "cell_type": "markdown",
   "id": "e00eac78",
   "metadata": {},
   "source": [
    "2. From a PdfFileReader object, how do you get a Page object for page 5?\n",
    "\n",
    "Ans:\n",
    "    \n",
    "    use getpage(5) method."
   ]
  },
  {
   "cell_type": "markdown",
   "id": "ef1ba831",
   "metadata": {},
   "source": [
    "3. What PdfFileReader variable stores the number of pages in the PDF document?\n",
    "\n",
    "Ans:\n",
    "    \n",
    "    numPages stores the total no of pages in a pdf"
   ]
  },
  {
   "cell_type": "markdown",
   "id": "85c7564c",
   "metadata": {},
   "source": [
    "4. If a PdfFileReader object’s PDF is encrypted with the password swordfish, what must you do before you can obtain Page objects from it?\n",
    "\n",
    "Ans:\n",
    "\n",
    "    step 1 - load pdf [ PyPDF2.PdfFileReader(open('encrypted.pdf', 'rb')) ]\n",
    "    step 2 - check weather it is encrypted [ pdf.isEncrypted ]\n",
    "    step 3 - if encrypted use [ pdf.decrypt('swordfish') ]"
   ]
  },
  {
   "cell_type": "markdown",
   "id": "fca77bb5",
   "metadata": {},
   "source": [
    "5. What methods do you use to rotate a page?\n",
    "\n",
    "Ans:\n",
    "    \n",
    "    For anticlockwise: rotateCounterClockwise() \n",
    "    for clockwise    : rotateClockwise()"
   ]
  },
  {
   "cell_type": "markdown",
   "id": "3c2f2d4d",
   "metadata": {},
   "source": [
    "6. What is the difference between a Run object and a Paragraph object?\n",
    "\n",
    "Ans:\n",
    "    \n",
    "    Word document contain formatted text wrapped within three object levels:\n",
    "    lowest level: run objects.\n",
    "    middle level: paragraph objects.\n",
    "    highest level: document object.\n",
    "\n",
    "    Run Object is used for inline content, text, pictures and other items within a paragraph. "
   ]
  },
  {
   "cell_type": "markdown",
   "id": "a203d47e",
   "metadata": {},
   "source": [
    "7. How do you obtain a list of Paragraph objects for a Document object that’s stored in a variable named doc?\n",
    "\n",
    "Ans:\n",
    "    \n",
    "    Collecting python-docx\n",
    "    Downloading python-docx-0.8.10.tar.gz (5.5 MB)\n",
    "    Requirement already satisfied: lxml>=2.3.2 in d:\\anaconda3\\lib\\site-packages (from python-docx) (4.6.3)\n",
    "    Building wheels for collected packages: python-docx\n",
    "    Building wheel for python-docx (setup.py): started\n",
    "    Building wheel for python-docx (setup.py): finished with status 'done'\n",
    "    Created wheel for python-docx: filename=python_docx-0.8.10-py3-none-any.whl size=184489      sha256=f85bef15e1fe4f86cc80c013d5f49090e63407162096f2c50fe66f7f820b8cf6\n",
    "    Stored in directory: c:\\users\\rushikesh pokale\\appdata\\local\\pip\\cache\\wheels\\97\\4c\\2e\\68066cbf12b9b2e66403da8982aaf4f656d9f5cb5dc3179e82\n",
    "    Successfully built python-docx\n",
    "    Installing collected packages: python-docx\n",
    "    Successfully installed python-docx-0.8.10\n",
    "    Note: you may need to restart the kernel to use updated packages."
   ]
  },
  {
   "cell_type": "markdown",
   "id": "eeed2ed7",
   "metadata": {},
   "source": [
    "8. What type of object has bold, underline, italic, strike, and outline variables?\n",
    "\n",
    "Ans:\n",
    "    \n",
    "    Run object"
   ]
  },
  {
   "cell_type": "markdown",
   "id": "f55e4a27",
   "metadata": {},
   "source": [
    "9. What is the difference between False, True, and None for the bold variable?\n",
    "\n",
    "Ans:\n",
    "    \n",
    "    True = on\n",
    "    False = off\n",
    "    none = not available"
   ]
  },
  {
   "cell_type": "markdown",
   "id": "17358187",
   "metadata": {},
   "source": [
    "10. How do you create a Document object for a new Word document?\n",
    "\n",
    "Ans:\n",
    "    \n",
    "    doc = docx.Document()\n",
    "    doc.add_paragraph('world')\n",
    "    doc.save('hello.docx')"
   ]
  },
  {
   "cell_type": "markdown",
   "id": "4647738f",
   "metadata": {},
   "source": [
    "11. How do you add a paragraph with the text 'Hello, there!' to a Document object stored in a variable named doc?\n",
    "\n",
    "Ans:\n",
    "    \n",
    "    "
   ]
  },
  {
   "cell_type": "markdown",
   "id": "f6fa829f",
   "metadata": {},
   "source": [
    "doc = docx.Document()\n",
    "doc.add_paragraph('Hello,there!')\n",
    "doc.save('hellothere.docx')"
   ]
  },
  {
   "cell_type": "markdown",
   "id": "94ab5c2c",
   "metadata": {},
   "source": [
    "12. What integers represent the levels of headings available in Word documents?\n",
    "\n",
    "Ans:\n",
    "    \n",
    "    integers 1 to 4 are for various heading levels where 1 is main heading and 4 the lowest subheading."
   ]
  },
  {
   "cell_type": "code",
   "execution_count": null,
   "id": "9c5e47b1",
   "metadata": {},
   "outputs": [],
   "source": []
  }
 ],
 "metadata": {
  "kernelspec": {
   "display_name": "Python 3 (ipykernel)",
   "language": "python",
   "name": "python3"
  },
  "language_info": {
   "codemirror_mode": {
    "name": "ipython",
    "version": 3
   },
   "file_extension": ".py",
   "mimetype": "text/x-python",
   "name": "python",
   "nbconvert_exporter": "python",
   "pygments_lexer": "ipython3",
   "version": "3.9.7"
  }
 },
 "nbformat": 4,
 "nbformat_minor": 5
}
