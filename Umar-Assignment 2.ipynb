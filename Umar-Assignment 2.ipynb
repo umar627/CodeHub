{
 "cells": [
  {
   "cell_type": "markdown",
   "id": "98260a08",
   "metadata": {},
   "source": [
    "1.What are the two values of the Boolean data type? How do you write them?\n",
    "\n",
    "Ans:   \n",
    "      The value of Boolean data types are \"True & False\" in binary format it is consider as \"0 & 1\"\n",
    "      \n",
    "     a=True\n",
    "     b=False\n",
    "     type(a)\n",
    "     type(b)\n",
    "     "
   ]
  },
  {
   "cell_type": "code",
   "execution_count": 2,
   "id": "e1fe6d6e",
   "metadata": {},
   "outputs": [
    {
     "data": {
      "text/plain": [
       "bool"
      ]
     },
     "execution_count": 2,
     "metadata": {},
     "output_type": "execute_result"
    }
   ],
   "source": [
    "a=True\n",
    "b=False\n",
    "type(a)\n",
    "type(b)"
   ]
  },
  {
   "cell_type": "markdown",
   "id": "68024362",
   "metadata": {},
   "source": [
    "2. What are the three different types of Boolean operators?\n",
    "\n",
    "Ans:  \n",
    "     The three different types of Boolean oprators are\n",
    "     \n",
    "      1) AND\n",
    "      2) Or\n",
    "      3) NOT or AND NOT"
   ]
  },
  {
   "cell_type": "markdown",
   "id": "923b9cf6",
   "metadata": {},
   "source": [
    "3. Make a list of each Boolean operator's truth tables (i.e. every possible combination of Boolean values for the operator and what it evaluate ).\n",
    "\n",
    "Ans:\n",
    " \n",
    "       True       True       \n",
    "       True       False\n",
    "       False      True\n",
    "       False      False\n",
    "       \n",
    "       \n",
    "       \n",
    "       AND Operator          OR Operator         NOT Operator\n",
    "         \n",
    "         True                 True                False    False\n",
    "         False                True                False    True\n",
    "         False                True                True     False\n",
    "         False                False               True     True"
   ]
  },
  {
   "cell_type": "markdown",
   "id": "330897fe",
   "metadata": {},
   "source": [
    "4. What are the values of the following expressions?\n",
    "1) (5 > 4) and (3 == 5)\n",
    "2) not (5 > 4)\n",
    "3) (5 > 4) or (3 == 5)\n",
    "4) not ((5 > 4) or (3 == 5))\n",
    "5) (True and True) and (True == False)\n",
    "6) (not False) or (not True)\n",
    "\n",
    "Ans :\n",
    "\n",
    "      1) False\n",
    "      2) False\n",
    "      3) True\n",
    "      4) False\n",
    "      5) False\n",
    "      6) True"
   ]
  },
  {
   "cell_type": "markdown",
   "id": "a8fd88df",
   "metadata": {},
   "source": [
    "5. What are the six comparison operators?\n",
    "\n",
    "Ans :\n",
    "    \n",
    "      1) >\n",
    "      2) ==\n",
    "      3) <\n",
    "      4) >=\n",
    "      5) <=\n",
    "      6) and \n",
    "      7) or\n",
    "      8) not\n",
    "         \n",
    "      \n",
    "      \n",
    "      "
   ]
  },
  {
   "cell_type": "markdown",
   "id": "c9b41698",
   "metadata": {},
   "source": [
    "6. How do you tell the difference between the equal to and assignment operators?Describe a condition and when you would use one.\n",
    "\n",
    "Ans:\n",
    "\n",
    "      \"=\" It is a assignment operator which is denoted as equal to symbol\n",
    "      This is used to assign the value to a variable\n",
    "      \n",
    "      \"==\" It is a equal to operator which is used to compare the opreands \n",
    "        It compare two values , if values are same return True if not return False"
   ]
  },
  {
   "cell_type": "markdown",
   "id": "2698bc8e",
   "metadata": {},
   "source": [
    "7. Identify the three blocks in this code:\n",
    "spam = 0\n",
    "if spam == 10:\n",
    "print('eggs')\n",
    "if spam > 5:\n",
    "print('bacon')\n",
    "else:\n",
    "print('ham')\n",
    "print('spam')\n",
    "print('spam')\n",
    "\n",
    "\n",
    "Ans :   \n",
    "\n",
    "\n",
    "       1)if\n",
    "       2)if\n",
    "       3)else"
   ]
  },
  {
   "cell_type": "code",
   "execution_count": 11,
   "id": "e65e2d84",
   "metadata": {},
   "outputs": [
    {
     "name": "stdout",
     "output_type": "stream",
     "text": [
      "ham\n",
      "spam\n",
      "spam\n"
     ]
    }
   ],
   "source": [
    "spam = 0\n",
    "if spam == 10:\n",
    "    print('eggs')\n",
    "    if spam > 5:\n",
    "        print('bacon')\n",
    "else:\n",
    "    print('ham')\n",
    "    print('spam')\n",
    "    print('spam')"
   ]
  },
  {
   "cell_type": "markdown",
   "id": "0cbf7831",
   "metadata": {},
   "source": [
    "8. Write code that prints Hello if 1 is stored in spam, prints Howdy if 2 is stored in spam, and prints Greetings! if anything else is stored in spam.\n",
    "\n",
    "\n",
    "Ans:\n",
    "\n",
    "     "
   ]
  },
  {
   "cell_type": "code",
   "execution_count": 6,
   "id": "11833006",
   "metadata": {},
   "outputs": [
    {
     "name": "stdout",
     "output_type": "stream",
     "text": [
      "Howdy\n"
     ]
    }
   ],
   "source": [
    "spam=1\n",
    "spam=2\n",
    "if spam==1:\n",
    "    print(\"Hello\")\n",
    "elif spam==2:\n",
    "        print(\"Howdy\")\n",
    "else:\n",
    "    print(\"Greetings\")"
   ]
  },
  {
   "cell_type": "markdown",
   "id": "67966513",
   "metadata": {},
   "source": [
    "9.If your programme is stuck in an endless loop, what keys you’ll press?\n",
    "\n",
    "Ans:\n",
    "     \n",
    "       If we stuck in an endless loop just simply press CTRL + C to exit from the endless loop."
   ]
  },
  {
   "cell_type": "markdown",
   "id": "dfae62b9",
   "metadata": {},
   "source": [
    "10. How can you tell the difference between break and continue?\n",
    "\n",
    "Ans:\n",
    "    \n",
    "     using break keyword in the programme we can treminate the condition at some point \n",
    "     using continue keyword we can continue to the next iteration whether the condition is true or false."
   ]
  },
  {
   "cell_type": "markdown",
   "id": "bca6c02b",
   "metadata": {},
   "source": [
    "11. In a for loop, what is the difference between range(10), range(0, 10), and range(0, 10, 1)?\n",
    "\n",
    "Ans:\n",
    "    python for loop range(start,stop,step)\n",
    "      "
   ]
  },
  {
   "cell_type": "code",
   "execution_count": 12,
   "id": "a90b24a9",
   "metadata": {},
   "outputs": [
    {
     "name": "stdout",
     "output_type": "stream",
     "text": [
      "0\n",
      "1\n",
      "2\n",
      "3\n",
      "4\n",
      "5\n",
      "6\n",
      "7\n",
      "8\n",
      "9\n"
     ]
    }
   ],
   "source": [
    " for i in range(10):\n",
    "    print(i)"
   ]
  },
  {
   "cell_type": "code",
   "execution_count": 13,
   "id": "e1fa2d86",
   "metadata": {},
   "outputs": [
    {
     "name": "stdout",
     "output_type": "stream",
     "text": [
      "0\n",
      "1\n",
      "2\n",
      "3\n",
      "4\n",
      "5\n",
      "6\n",
      "7\n",
      "8\n",
      "9\n"
     ]
    }
   ],
   "source": [
    "for i in range(0,10):\n",
    "    print(i)"
   ]
  },
  {
   "cell_type": "code",
   "execution_count": 14,
   "id": "6f7f284c",
   "metadata": {},
   "outputs": [
    {
     "name": "stdout",
     "output_type": "stream",
     "text": [
      "0\n",
      "1\n",
      "2\n",
      "3\n",
      "4\n",
      "5\n",
      "6\n",
      "7\n",
      "8\n",
      "9\n"
     ]
    }
   ],
   "source": [
    " for i in range(0,10,1):\n",
    "        print(i)"
   ]
  },
  {
   "cell_type": "markdown",
   "id": "dd831603",
   "metadata": {},
   "source": [
    "12. Write a short program that prints the numbers 1 to 10 using a for loop. Then write an equivalent program that prints the numbers 1 to 10 using a while loop.\n",
    "\n",
    "Ans:\n",
    "\n",
    "     "
   ]
  },
  {
   "cell_type": "code",
   "execution_count": 15,
   "id": "2c74e327",
   "metadata": {},
   "outputs": [
    {
     "name": "stdout",
     "output_type": "stream",
     "text": [
      "1\n",
      "2\n",
      "3\n",
      "4\n",
      "5\n",
      "6\n",
      "7\n",
      "8\n",
      "9\n",
      "10\n"
     ]
    }
   ],
   "source": [
    "i=1\n",
    "while(i<=10):\n",
    "    print(i)\n",
    "    i+=1\n"
   ]
  },
  {
   "cell_type": "markdown",
   "id": "818beadc",
   "metadata": {},
   "source": [
    "13. If you had a function named bacon() inside a module named spam, how would you call it after importing spam?\n",
    "\n",
    "Ans :\n",
    "    \n",
    "      if we have function bacon then we can called with spam.bacon()\n"
   ]
  },
  {
   "cell_type": "code",
   "execution_count": null,
   "id": "2c0bcd2e",
   "metadata": {},
   "outputs": [],
   "source": [
    "\n"
   ]
  },
  {
   "cell_type": "code",
   "execution_count": null,
   "id": "8a32c615",
   "metadata": {},
   "outputs": [],
   "source": []
  }
 ],
 "metadata": {
  "kernelspec": {
   "display_name": "Python 3 (ipykernel)",
   "language": "python",
   "name": "python3"
  },
  "language_info": {
   "codemirror_mode": {
    "name": "ipython",
    "version": 3
   },
   "file_extension": ".py",
   "mimetype": "text/x-python",
   "name": "python",
   "nbconvert_exporter": "python",
   "pygments_lexer": "ipython3",
   "version": "3.9.7"
  }
 },
 "nbformat": 4,
 "nbformat_minor": 5
}
