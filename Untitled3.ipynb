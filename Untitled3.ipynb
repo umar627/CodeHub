{
 "cells": [
  {
   "cell_type": "markdown",
   "id": "8921b1de",
   "metadata": {},
   "source": [
    "if \n"
   ]
  },
  {
   "cell_type": "code",
   "execution_count": 1,
   "id": "58bfd244",
   "metadata": {},
   "outputs": [
    {
     "name": "stdout",
     "output_type": "stream",
     "text": [
      "This is true for now\n"
     ]
    }
   ],
   "source": [
    "a=10\n",
    "if a==10:\n",
    "    print(\"This is true for now\")"
   ]
  },
  {
   "cell_type": "code",
   "execution_count": 2,
   "id": "e34358bb",
   "metadata": {},
   "outputs": [],
   "source": [
    "a=10\n",
    "if a==10:\n",
    "    pass"
   ]
  },
  {
   "cell_type": "code",
   "execution_count": 3,
   "id": "13b53702",
   "metadata": {},
   "outputs": [],
   "source": [
    "a=10\n",
    "if a<8:\n",
    "    print(\"This is great\")"
   ]
  },
  {
   "cell_type": "code",
   "execution_count": 4,
   "id": "2e968763",
   "metadata": {},
   "outputs": [
    {
     "data": {
      "text/plain": [
       "10"
      ]
     },
     "execution_count": 4,
     "metadata": {},
     "output_type": "execute_result"
    }
   ],
   "source": [
    "a"
   ]
  },
  {
   "cell_type": "code",
   "execution_count": 7,
   "id": "09f158cb",
   "metadata": {},
   "outputs": [
    {
     "name": "stdout",
     "output_type": "stream",
     "text": [
      "Print this\n"
     ]
    }
   ],
   "source": [
    "a=10\n",
    "if a == 11 :\n",
    "    print(\"This condition is false\")\n",
    "else:\n",
    "    print(\"Print this\")\n"
   ]
  },
  {
   "cell_type": "code",
   "execution_count": 8,
   "id": "bb7e0d56",
   "metadata": {},
   "outputs": [
    {
     "name": "stdout",
     "output_type": "stream",
     "text": [
      "print is not match\n"
     ]
    }
   ],
   "source": [
    "a=10\n",
    "if a==11:\n",
    "    print(\"Print this condition true\")\n",
    "elif a==12:\n",
    "    print(\"print this is false\")\n",
    "else:\n",
    "    print(\"print is not match\")"
   ]
  },
  {
   "cell_type": "code",
   "execution_count": 10,
   "id": "d4a066ed",
   "metadata": {},
   "outputs": [
    {
     "name": "stdout",
     "output_type": "stream",
     "text": [
      "I can buy a jacket\n"
     ]
    }
   ],
   "source": [
    "price=500\n",
    "if price < 500:\n",
    "    print(\"I can be able to buy jacket\")\n",
    "elif price >500:\n",
    "    print(\"No able to buy a jacket\")\n",
    "elif price <=500:\n",
    "    print(\"I can buy a jacket\")\n",
    "else:\n",
    "    print(\"Not interested\")"
   ]
  },
  {
   "cell_type": "code",
   "execution_count": 11,
   "id": "2f809596",
   "metadata": {},
   "outputs": [
    {
     "data": {
      "text/plain": [
       "True"
      ]
     },
     "execution_count": 11,
     "metadata": {},
     "output_type": "execute_result"
    }
   ],
   "source": [
    "l=[2,3,4,5,6,7,8,6]\n",
    "3 in l"
   ]
  },
  {
   "cell_type": "code",
   "execution_count": 12,
   "id": "0930ab1e",
   "metadata": {},
   "outputs": [
    {
     "name": "stdout",
     "output_type": "stream",
     "text": [
      "Execute this task\n"
     ]
    }
   ],
   "source": [
    "if 2 in l:\n",
    "    print(\"Execute this task\")\n",
    "else:\n",
    "    print(\"Do not perform this task\")"
   ]
  },
  {
   "cell_type": "code",
   "execution_count": 15,
   "id": "5672f985",
   "metadata": {},
   "outputs": [
    {
     "name": "stdout",
     "output_type": "stream",
     "text": [
      "Enter amount :600\n",
      "I am not interested\n",
      "I cannot buy anything\n"
     ]
    }
   ],
   "source": [
    "a=int(input(\"Enter amount :\"))\n",
    "if a>500:\n",
    "    print(\"I am not interested\")\n",
    "if a<500:\n",
    "    print(\"I can buy \")\n",
    "elif a<=500:\n",
    "    print(\"I can buy another thing \")\n",
    "else:\n",
    "    print(\"I cannot buy anything\")"
   ]
  },
  {
   "cell_type": "code",
   "execution_count": 25,
   "id": "555d6c5b",
   "metadata": {},
   "outputs": [
    {
     "name": "stdout",
     "output_type": "stream",
     "text": [
      "Enter your mark:600\n",
      "Your are passed\n"
     ]
    }
   ],
   "source": [
    "m=int(input(\"Enter your mark:\"))\n",
    "if m==600:\n",
    "    print(\"Your are passed\")\n",
    "    if m>600:\n",
    "        print(\"Your are extraordinary\")\n",
    "    elif m<=500:\n",
    "        print(\"Not eigible\")\n",
    "else:\n",
    "    print(\"No you can try again\")"
   ]
  },
  {
   "cell_type": "code",
   "execution_count": null,
   "id": "1cb7e3fb",
   "metadata": {},
   "outputs": [],
   "source": [
    "val=float(input(\"Enter the floating point number:\"))\n",
    "if val==0:\n",
    "    print(\"This is floating point zero\")"
   ]
  }
 ],
 "metadata": {
  "kernelspec": {
   "display_name": "Python 3 (ipykernel)",
   "language": "python",
   "name": "python3"
  },
  "language_info": {
   "codemirror_mode": {
    "name": "ipython",
    "version": 3
   },
   "file_extension": ".py",
   "mimetype": "text/x-python",
   "name": "python",
   "nbconvert_exporter": "python",
   "pygments_lexer": "ipython3",
   "version": "3.9.7"
  }
 },
 "nbformat": 4,
 "nbformat_minor": 5
}
